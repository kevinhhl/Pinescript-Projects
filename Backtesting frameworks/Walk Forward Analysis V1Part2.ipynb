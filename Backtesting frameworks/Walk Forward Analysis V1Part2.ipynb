{
 "cells": [
  {
   "cell_type": "markdown",
   "metadata": {},
   "source": [
    "# Walk forward analysis - Part 2 - Predicting the args for OOS periods\n",
    "\n",
    "* In the [previous notebook](https://github.com/kevinhhl/Pinescript-Projects/blob/5ca8a0b4ef847159ae93bfedb3cf8c7a67b3d3a1/Backtesting%20frameworks/Walk%20Forward%20Analysis%20V1.ipynb), we built a script combining OOS periods to perform WFA using data exported from TradingView.\n",
    "\n",
    "* One of the parameters in my NQ strategy - called \"Brick\" - acts as a filter to prevent trades from taking place if ATR is below the inputted threshold. Logically, the optimal value should correlate with expected market volatility. Although we don't have a crystal ball to quantify realized volatility, it still makes sense to use VIX as a predictor.\n",
    "\n",
    "To train the model, we feed weekly VIX and performance benchmarks (refer to previous script) and apply a linear regression model to fit the training data set. One question we need to address is the appropriate window size for training. This question will be addressed in the \"Model Selection\" section of this notebook."
   ]
  },
  {
   "cell_type": "code",
   "execution_count": 1,
   "metadata": {},
   "outputs": [],
   "source": [
    "import pandas as pd\n",
    "from sklearn.linear_model import LinearRegression\n",
    "from sklearn.metrics import mean_squared_error\n",
    "from sklearn.preprocessing import StandardScaler\n",
    "import yfinance as yf\n",
    "import matplotlib.pyplot as plt  \n",
    "import numpy as np\n",
    "from sklearn.model_selection import learning_curve"
   ]
  },
  {
   "cell_type": "code",
   "execution_count": 2,
   "metadata": {},
   "outputs": [],
   "source": [
    "DO_NORM = False\n",
    "MIN_LOOKBACK = 100"
   ]
  },
  {
   "cell_type": "markdown",
   "metadata": {},
   "source": [
    "## Loading the data\n",
    "\n",
    "From [previous notebook](https://github.com/kevinhhl/Pinescript-Projects/blob/5ca8a0b4ef847159ae93bfedb3cf8c7a67b3d3a1/Backtesting%20frameworks/Walk%20Forward%20Analysis%20V1.ipynb):"
   ]
  },
  {
   "cell_type": "code",
   "execution_count": 3,
   "metadata": {},
   "outputs": [
    {
     "data": {
      "text/html": [
       "<div>\n",
       "<style scoped>\n",
       "    .dataframe tbody tr th:only-of-type {\n",
       "        vertical-align: middle;\n",
       "    }\n",
       "\n",
       "    .dataframe tbody tr th {\n",
       "        vertical-align: top;\n",
       "    }\n",
       "\n",
       "    .dataframe thead th {\n",
       "        text-align: right;\n",
       "    }\n",
       "</style>\n",
       "<table border=\"1\" class=\"dataframe\">\n",
       "  <thead>\n",
       "    <tr style=\"text-align: right;\">\n",
       "      <th></th>\n",
       "      <th>In-sample Period</th>\n",
       "      <th>IS: Date1</th>\n",
       "      <th>IS: Date2</th>\n",
       "      <th>IS: Brick</th>\n",
       "      <th>IS: ATR</th>\n",
       "      <th>benchmark</th>\n",
       "      <th>OOS Date1</th>\n",
       "      <th>OOS Date2</th>\n",
       "      <th>OOS ATR</th>\n",
       "      <th>OOS Brick</th>\n",
       "    </tr>\n",
       "  </thead>\n",
       "  <tbody>\n",
       "    <tr>\n",
       "      <th>465</th>\n",
       "      <td>2023_Week #26</td>\n",
       "      <td>2023-06-26</td>\n",
       "      <td>2023-07-02</td>\n",
       "      <td>28</td>\n",
       "      <td>2</td>\n",
       "      <td>-8.75</td>\n",
       "      <td>2023-07-03</td>\n",
       "      <td>2023-07-09</td>\n",
       "      <td>2.0</td>\n",
       "      <td>26.0</td>\n",
       "    </tr>\n",
       "    <tr>\n",
       "      <th>466</th>\n",
       "      <td>2023_Week #27</td>\n",
       "      <td>2023-07-03</td>\n",
       "      <td>2023-07-09</td>\n",
       "      <td>22</td>\n",
       "      <td>2</td>\n",
       "      <td>-0.50</td>\n",
       "      <td>2023-07-10</td>\n",
       "      <td>2023-07-16</td>\n",
       "      <td>2.0</td>\n",
       "      <td>28.0</td>\n",
       "    </tr>\n",
       "    <tr>\n",
       "      <th>467</th>\n",
       "      <td>2023_Week #28</td>\n",
       "      <td>2023-07-10</td>\n",
       "      <td>2023-07-16</td>\n",
       "      <td>26</td>\n",
       "      <td>2</td>\n",
       "      <td>-10.60</td>\n",
       "      <td>2023-07-17</td>\n",
       "      <td>2023-07-23</td>\n",
       "      <td>2.0</td>\n",
       "      <td>28.0</td>\n",
       "    </tr>\n",
       "    <tr>\n",
       "      <th>468</th>\n",
       "      <td>2023_Week #29</td>\n",
       "      <td>2023-07-17</td>\n",
       "      <td>2023-07-23</td>\n",
       "      <td>18</td>\n",
       "      <td>2</td>\n",
       "      <td>18.30</td>\n",
       "      <td>2023-07-24</td>\n",
       "      <td>2023-07-30</td>\n",
       "      <td>2.0</td>\n",
       "      <td>24.0</td>\n",
       "    </tr>\n",
       "    <tr>\n",
       "      <th>469</th>\n",
       "      <td>2023_Week #30</td>\n",
       "      <td>2023-07-24</td>\n",
       "      <td>2023-07-30</td>\n",
       "      <td>18</td>\n",
       "      <td>2</td>\n",
       "      <td>14.40</td>\n",
       "      <td>2023-07-31</td>\n",
       "      <td>2023-08-06</td>\n",
       "      <td>2.0</td>\n",
       "      <td>21.0</td>\n",
       "    </tr>\n",
       "  </tbody>\n",
       "</table>\n",
       "</div>"
      ],
      "text/plain": [
       "    In-sample Period  IS: Date1  IS: Date2  IS: Brick  IS: ATR  benchmark  \\\n",
       "465    2023_Week #26 2023-06-26 2023-07-02         28        2      -8.75   \n",
       "466    2023_Week #27 2023-07-03 2023-07-09         22        2      -0.50   \n",
       "467    2023_Week #28 2023-07-10 2023-07-16         26        2     -10.60   \n",
       "468    2023_Week #29 2023-07-17 2023-07-23         18        2      18.30   \n",
       "469    2023_Week #30 2023-07-24 2023-07-30         18        2      14.40   \n",
       "\n",
       "     OOS Date1  OOS Date2  OOS ATR  OOS Brick  \n",
       "465 2023-07-03 2023-07-09      2.0       26.0  \n",
       "466 2023-07-10 2023-07-16      2.0       28.0  \n",
       "467 2023-07-17 2023-07-23      2.0       28.0  \n",
       "468 2023-07-24 2023-07-30      2.0       24.0  \n",
       "469 2023-07-31 2023-08-06      2.0       21.0  "
      ]
     },
     "execution_count": 3,
     "metadata": {},
     "output_type": "execute_result"
    }
   ],
   "source": [
    "df_wfa_template = pd.read_pickle('df_wfa_template.pkl')\n",
    "df_wfa_template.tail()"
   ]
  },
  {
   "cell_type": "code",
   "execution_count": 4,
   "metadata": {},
   "outputs": [
    {
     "name": "stdout",
     "output_type": "stream",
     "text": [
      "[*********************100%***********************]  1 of 1 completed\n"
     ]
    },
    {
     "data": {
      "text/html": [
       "<div>\n",
       "<style scoped>\n",
       "    .dataframe tbody tr th:only-of-type {\n",
       "        vertical-align: middle;\n",
       "    }\n",
       "\n",
       "    .dataframe tbody tr th {\n",
       "        vertical-align: top;\n",
       "    }\n",
       "\n",
       "    .dataframe thead th {\n",
       "        text-align: right;\n",
       "    }\n",
       "</style>\n",
       "<table border=\"1\" class=\"dataframe\">\n",
       "  <thead>\n",
       "    <tr style=\"text-align: right;\">\n",
       "      <th></th>\n",
       "      <th>In-sample Period</th>\n",
       "      <th>Avg. VIX</th>\n",
       "    </tr>\n",
       "  </thead>\n",
       "  <tbody>\n",
       "    <tr>\n",
       "      <th>497</th>\n",
       "      <td>2023_Week #28</td>\n",
       "      <td>13.626</td>\n",
       "    </tr>\n",
       "    <tr>\n",
       "      <th>498</th>\n",
       "      <td>2023_Week #29</td>\n",
       "      <td>13.740</td>\n",
       "    </tr>\n",
       "    <tr>\n",
       "      <th>499</th>\n",
       "      <td>2023_Week #30</td>\n",
       "      <td>15.334</td>\n",
       "    </tr>\n",
       "    <tr>\n",
       "      <th>500</th>\n",
       "      <td>2023_Week #31</td>\n",
       "      <td>15.880</td>\n",
       "    </tr>\n",
       "    <tr>\n",
       "      <th>501</th>\n",
       "      <td>2023_Week #32</td>\n",
       "      <td>NaN</td>\n",
       "    </tr>\n",
       "  </tbody>\n",
       "</table>\n",
       "</div>"
      ],
      "text/plain": [
       "    In-sample Period  Avg. VIX\n",
       "497    2023_Week #28    13.626\n",
       "498    2023_Week #29    13.740\n",
       "499    2023_Week #30    15.334\n",
       "500    2023_Week #31    15.880\n",
       "501    2023_Week #32       NaN"
      ]
     },
     "execution_count": 4,
     "metadata": {},
     "output_type": "execute_result"
    }
   ],
   "source": [
    "def _categorize_in_sample(date):\n",
    "    ''' Helper function to categorize in-sample group based on given date. '''\n",
    "    year, week_num, day_of_week = date.isocalendar()\n",
    "    return str(year) + \"_Week #{:02d}\".format(week_num)\n",
    "\n",
    "df_vix = yf.download(\"^VIX\", start=\"2014-01-01\", end=\"2030-12-31\")\n",
    "df_vix.reset_index(inplace=True)\n",
    "df_vix[\"Date\"] = df_vix[\"Date\"].apply(_categorize_in_sample)\n",
    "df_vix = df_vix.groupby(\"Date\").mean()\n",
    "df_vix.reset_index(inplace=True)\n",
    "df_vix = df_vix[['Date', 'Close']]\n",
    "df_vix.rename(columns={\"Close\": \"Avg. VIX\", \"Date\":\"In-sample Period\"}, inplace=True)\n",
    "df_vix[\"Avg. VIX\"] = df_vix[\"Avg. VIX\"].shift(-1) # Shift Avg. VIX by 1 week to account for 1 week lag in data\n",
    "df_vix.tail()"
   ]
  },
  {
   "cell_type": "markdown",
   "metadata": {},
   "source": [
    "## Model Selection\n",
    "\n",
    "To select the final model, we will use the Sci Kit Learn's learning_curve() to help use visualize training and validation errors under different scenarios of using different sample sizes for training. We use RMSE to measure magnitude of errors."
   ]
  },
  {
   "cell_type": "code",
   "execution_count": 5,
   "metadata": {},
   "outputs": [
    {
     "data": {
      "image/png": "[encoded data removed]",
      "text/plain": [
       "<Figure size 800x400 with 1 Axes>"
      ]
     },
     "metadata": {},
     "output_type": "display_data"
    }
   ],
   "source": [
    "# Prepare data for learning curve\n",
    "df = df_wfa_template.copy()\n",
    "df[\"Avg. VIX\"] = df[\"In-sample Period\"].map(df_vix.set_index(\"In-sample Period\")[\"Avg. VIX\"]) \n",
    "df = df[['In-sample Period', 'IS: Date1', 'IS: Date2', 'IS: Brick', 'IS: ATR', 'Avg. VIX']] \n",
    "_df = df.copy()\n",
    "_df = df.dropna()\n",
    "X_train = _df['Avg. VIX'].values.reshape(-1, 1)\n",
    "y_train = _df['IS: Brick'].values.reshape(-1, 1)  \n",
    "train_sizes, train_scores, valid_scores = learning_curve(\n",
    "    LinearRegression(), X_train, y_train, train_sizes=np.linspace(0.01, 1.0, 40), cv=5,\n",
    "    scoring=\"neg_root_mean_squared_error\")\n",
    "\n",
    "# Vectors of mean RMSE scores across folds, for each training set size\n",
    "train_errors = -train_scores.mean(axis=1)\n",
    "valid_errors = -valid_scores.mean(axis=1) \n",
    "\n",
    "# Plot the learning curves\n",
    "fig = plt.figure(figsize=(8, 4))\n",
    "plt.plot(train_sizes, train_errors, \"r\", linewidth=1, label=\"train\")\n",
    "plt.plot(train_sizes, valid_errors, \"b\", linewidth=2, label=\"valid\")\n",
    "plt.title(\"Learning Curve\", size=14)\n",
    "plt.xlabel(\"Training set size\")\n",
    "plt.ylabel(\"RMSE\")\n",
    "plt.legend(loc=\"best\")\n",
    "plt.show()"
   ]
  },
  {
   "cell_type": "markdown",
   "metadata": {},
   "source": [
    "## Training our model"
   ]
  },
  {
   "cell_type": "code",
   "execution_count": 6,
   "metadata": {},
   "outputs": [],
   "source": [
    "def _create_model(lookback, do_norm=False, verbose=False):\n",
    "    ''' Helper function to create a the final linear regression model '''\n",
    "\n",
    "    df = df_wfa_template.copy()[lookback:]\n",
    "    df[\"Avg. VIX\"] = df[\"In-sample Period\"].map(df_vix.set_index(\"In-sample Period\")[\"Avg. VIX\"]) \n",
    "    df = df[['In-sample Period', 'IS: Date1', 'IS: Date2', 'IS: Brick', 'IS: ATR', 'Avg. VIX']] #, 'OOS Date1', 'OOS Date2', 'OOS ATR', 'OOS Brick' ]]\n",
    "\n",
    "    if verbose:\n",
    "        print(\"Correlation between Avg. VIX (Weekly) and the IS: Brick: \\n = {}\".format(df[['IS: Brick', 'Avg. VIX']].corr().iloc[0, 1]))\n",
    "\n",
    "    _df = df.copy()\n",
    "    _df.set_index('IS: Date1', inplace=True) \n",
    "\n",
    "    # Create a linear regression model\n",
    "    model = LinearRegression()\n",
    "    _df = df.dropna()\n",
    "\n",
    "    # Define the features and the target\n",
    "    X_train = _df['Avg. VIX'].values.reshape(-1, 1)\n",
    "    y_train = _df['IS: Brick'].values.reshape(-1, 1) \n",
    "\n",
    "    scaler = StandardScaler()\n",
    "    if do_norm:\n",
    "        # Normalize the data\n",
    "        X_train = scaler.fit_transform(X_train)\n",
    "        y_train = scaler.fit_transform(y_train)\n",
    "    else:\n",
    "        pass\n",
    "\n",
    "    # Fit the model to the training data\n",
    "    model.fit(X_train, y_train)\n",
    "\n",
    "    return model, scaler, X_train, y_train, df "
   ]
  },
  {
   "cell_type": "code",
   "execution_count": 7,
   "metadata": {},
   "outputs": [
    {
     "data": {
      "text/plain": [
       "250"
      ]
     },
     "execution_count": 7,
     "metadata": {},
     "output_type": "execute_result"
    }
   ],
   "source": [
    "# Choosing a model based on the best performance on the validation set \n",
    "_final_lookback = int(input(\"Enter the lookback value: \"))\n",
    "final_model, final_scaler, final_X_train, final_y_train, final_df_wfa = _create_model(lookback=_final_lookback, do_norm=DO_NORM)\n",
    "_final_lookback"
   ]
  },
  {
   "cell_type": "code",
   "execution_count": 8,
   "metadata": {},
   "outputs": [
    {
     "data": {
      "image/png": "[encoded data removed]",
      "text/plain": [
       "<Figure size 640x480 with 1 Axes>"
      ]
     },
     "metadata": {},
     "output_type": "display_data"
    }
   ],
   "source": [
    "plt.scatter(final_X_train, final_y_train, color='blue', alpha=0.1)\n",
    "plt.plot(final_X_train, final_model.predict(final_X_train), linewidth=4, color='red')\n",
    "plt.xlabel('Avg. VIX')\n",
    "plt.ylabel('Optimal settings - IS: Brick')\n",
    "plt.title('Linear Reression Model') \n",
    "_hypo_funct = 'ŷ = {0:.2f} + {1:.2f}x'.format(final_model.intercept_[0], final_model.coef_[0][0])\n",
    "plt.gca().spines['right'].set_visible(False),plt.gca().spines['top'].set_visible(False)\n",
    "plt.text(1.005, 0.685, _hypo_funct, fontsize=12, transform=plt.gca().transAxes, color='red', fontweight='bold')\n",
    "plt.show() "
   ]
  },
  {
   "cell_type": "code",
   "execution_count": 9,
   "metadata": {},
   "outputs": [
    {
     "data": {
      "text/html": [
       "<div>\n",
       "<style scoped>\n",
       "    .dataframe tbody tr th:only-of-type {\n",
       "        vertical-align: middle;\n",
       "    }\n",
       "\n",
       "    .dataframe tbody tr th {\n",
       "        vertical-align: top;\n",
       "    }\n",
       "\n",
       "    .dataframe thead th {\n",
       "        text-align: right;\n",
       "    }\n",
       "</style>\n",
       "<table border=\"1\" class=\"dataframe\">\n",
       "  <thead>\n",
       "    <tr style=\"text-align: right;\">\n",
       "      <th></th>\n",
       "      <th>In-sample Period</th>\n",
       "      <th>IS: Date1</th>\n",
       "      <th>IS: Date2</th>\n",
       "      <th>IS: Brick</th>\n",
       "      <th>IS: ATR</th>\n",
       "      <th>Avg. VIX</th>\n",
       "    </tr>\n",
       "  </thead>\n",
       "  <tbody>\n",
       "    <tr>\n",
       "      <th>250</th>\n",
       "      <td>2019_Week #20</td>\n",
       "      <td>2019-05-20</td>\n",
       "      <td>2019-05-26</td>\n",
       "      <td>24</td>\n",
       "      <td>2</td>\n",
       "      <td>15.756000</td>\n",
       "    </tr>\n",
       "    <tr>\n",
       "      <th>251</th>\n",
       "      <td>2019_Week #21</td>\n",
       "      <td>2019-05-27</td>\n",
       "      <td>2019-06-02</td>\n",
       "      <td>7</td>\n",
       "      <td>2</td>\n",
       "      <td>17.852499</td>\n",
       "    </tr>\n",
       "    <tr>\n",
       "      <th>252</th>\n",
       "      <td>2019_Week #22</td>\n",
       "      <td>2019-06-03</td>\n",
       "      <td>2019-06-09</td>\n",
       "      <td>13</td>\n",
       "      <td>2</td>\n",
       "      <td>16.830000</td>\n",
       "    </tr>\n",
       "    <tr>\n",
       "      <th>253</th>\n",
       "      <td>2019_Week #23</td>\n",
       "      <td>2019-06-10</td>\n",
       "      <td>2019-06-16</td>\n",
       "      <td>21</td>\n",
       "      <td>2</td>\n",
       "      <td>15.788000</td>\n",
       "    </tr>\n",
       "    <tr>\n",
       "      <th>254</th>\n",
       "      <td>2019_Week #24</td>\n",
       "      <td>2019-06-17</td>\n",
       "      <td>2019-06-23</td>\n",
       "      <td>9</td>\n",
       "      <td>2</td>\n",
       "      <td>14.996000</td>\n",
       "    </tr>\n",
       "    <tr>\n",
       "      <th>...</th>\n",
       "      <td>...</td>\n",
       "      <td>...</td>\n",
       "      <td>...</td>\n",
       "      <td>...</td>\n",
       "      <td>...</td>\n",
       "      <td>...</td>\n",
       "    </tr>\n",
       "    <tr>\n",
       "      <th>465</th>\n",
       "      <td>2023_Week #26</td>\n",
       "      <td>2023-06-26</td>\n",
       "      <td>2023-07-02</td>\n",
       "      <td>28</td>\n",
       "      <td>2</td>\n",
       "      <td>14.505000</td>\n",
       "    </tr>\n",
       "    <tr>\n",
       "      <th>466</th>\n",
       "      <td>2023_Week #27</td>\n",
       "      <td>2023-07-03</td>\n",
       "      <td>2023-07-09</td>\n",
       "      <td>22</td>\n",
       "      <td>2</td>\n",
       "      <td>14.080000</td>\n",
       "    </tr>\n",
       "    <tr>\n",
       "      <th>467</th>\n",
       "      <td>2023_Week #28</td>\n",
       "      <td>2023-07-10</td>\n",
       "      <td>2023-07-16</td>\n",
       "      <td>26</td>\n",
       "      <td>2</td>\n",
       "      <td>13.626000</td>\n",
       "    </tr>\n",
       "    <tr>\n",
       "      <th>468</th>\n",
       "      <td>2023_Week #29</td>\n",
       "      <td>2023-07-17</td>\n",
       "      <td>2023-07-23</td>\n",
       "      <td>18</td>\n",
       "      <td>2</td>\n",
       "      <td>13.740000</td>\n",
       "    </tr>\n",
       "    <tr>\n",
       "      <th>469</th>\n",
       "      <td>2023_Week #30</td>\n",
       "      <td>2023-07-24</td>\n",
       "      <td>2023-07-30</td>\n",
       "      <td>18</td>\n",
       "      <td>2</td>\n",
       "      <td>15.334000</td>\n",
       "    </tr>\n",
       "  </tbody>\n",
       "</table>\n",
       "<p>220 rows × 6 columns</p>\n",
       "</div>"
      ],
      "text/plain": [
       "    In-sample Period  IS: Date1  IS: Date2  IS: Brick  IS: ATR   Avg. VIX\n",
       "250    2019_Week #20 2019-05-20 2019-05-26         24        2  15.756000\n",
       "251    2019_Week #21 2019-05-27 2019-06-02          7        2  17.852499\n",
       "252    2019_Week #22 2019-06-03 2019-06-09         13        2  16.830000\n",
       "253    2019_Week #23 2019-06-10 2019-06-16         21        2  15.788000\n",
       "254    2019_Week #24 2019-06-17 2019-06-23          9        2  14.996000\n",
       "..               ...        ...        ...        ...      ...        ...\n",
       "465    2023_Week #26 2023-06-26 2023-07-02         28        2  14.505000\n",
       "466    2023_Week #27 2023-07-03 2023-07-09         22        2  14.080000\n",
       "467    2023_Week #28 2023-07-10 2023-07-16         26        2  13.626000\n",
       "468    2023_Week #29 2023-07-17 2023-07-23         18        2  13.740000\n",
       "469    2023_Week #30 2023-07-24 2023-07-30         18        2  15.334000\n",
       "\n",
       "[220 rows x 6 columns]"
      ]
     },
     "execution_count": 9,
     "metadata": {},
     "output_type": "execute_result"
    }
   ],
   "source": [
    "final_df_wfa"
   ]
  },
  {
   "cell_type": "markdown",
   "metadata": {},
   "source": [
    "## Prediction:"
   ]
  },
  {
   "cell_type": "code",
   "execution_count": 10,
   "metadata": {},
   "outputs": [
    {
     "name": "stdout",
     "output_type": "stream",
     "text": [
      "Based on Avg VIX = 15.334000\n",
      "Prediction = 22.197383\n"
     ]
    }
   ],
   "source": [
    "_last_vix = final_df_wfa.tail(1)['Avg. VIX'].iloc[0]\n",
    "X_test = [[_last_vix]]\n",
    "\n",
    "print(\"Based on Avg VIX = {:f}\".format(X_test[0][0]))\n",
    "\n",
    "if DO_NORM:\n",
    "    prediction = final_scaler.inverse_transform(final_model.predict(X_test)).item()\n",
    "else:\n",
    "    prediction = final_model.predict(X_test).item() \n",
    "\n",
    "print(\"Prediction = {:f}\".format(prediction))"
   ]
  }
 ],
 "metadata": {
  "kernelspec": {
   "display_name": "base",
   "language": "python",
   "name": "python3"
  },
  "language_info": {
   "codemirror_mode": {
    "name": "ipython",
    "version": 3
   },
   "file_extension": ".py",
   "mimetype": "text/x-python",
   "name": "python",
   "nbconvert_exporter": "python",
   "pygments_lexer": "ipython3",
   "version": "3.10.9"
  },
  "orig_nbformat": 4
 },
 "nbformat": 4,
 "nbformat_minor": 2
}
