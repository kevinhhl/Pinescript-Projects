{
  "nbformat": 4,
  "nbformat_minor": 0,
  "metadata": {
    "colab": {
      "provenance": [],
      "collapsed_sections": [
        "GpdYqsGk0DYP"
      ],
      "authorship_tag": "ABX9TyOO8wdh+h/Wl/kYIG7bz469",
      "include_colab_link": true
    },
    "kernelspec": {
      "name": "python3",
      "display_name": "Python 3"
    },
    "language_info": {
      "name": "python"
    }
  },
  "cells": [
    {
      "cell_type": "markdown",
      "metadata": {
        "id": "view-in-github",
        "colab_type": "text"
      },
      "source": [
        "<a href=\"https://colab.research.google.com/github/kevinhhl/Pinescript-Projects/blob/main/Tools/Earnings_History_v1.ipynb\" target=\"_parent\"><img src=\"https://colab.research.google.com/assets/colab-badge.svg\" alt=\"Open In Colab\"/></a>"
      ]
    },
    {
      "cell_type": "markdown",
      "source": [
        "###Configurations:"
      ],
      "metadata": {
        "id": "7No0Bf-_zwzG"
      }
    },
    {
      "cell_type": "code",
      "source": [
        "SYMBOL = \"MSFT\""
      ],
      "metadata": {
        "id": "qi7yt2pvzwG9"
      },
      "execution_count": 1,
      "outputs": []
    },
    {
      "cell_type": "markdown",
      "source": [
        "###Processing:\n"
      ],
      "metadata": {
        "id": "GpdYqsGk0DYP"
      }
    },
    {
      "cell_type": "code",
      "source": [
        "!pip install yahoo_fin\n",
        "import yahoo_fin.stock_info as si"
      ],
      "metadata": {
        "colab": {
          "base_uri": "https://localhost:8080/"
        },
        "id": "lYliX9S_yXHI",
        "outputId": "dadb472f-e482-4194-ea25-5723b68bd6dd"
      },
      "execution_count": 2,
      "outputs": [
        {
          "output_type": "stream",
          "name": "stdout",
          "text": [
            "Looking in indexes: https://pypi.org/simple, https://us-python.pkg.dev/colab-wheels/public/simple/\n",
            "Requirement already satisfied: yahoo_fin in /usr/local/lib/python3.7/dist-packages (0.8.9.1)\n",
            "Requirement already satisfied: pandas in /usr/local/lib/python3.7/dist-packages (from yahoo_fin) (1.3.5)\n",
            "Requirement already satisfied: requests-html in /usr/local/lib/python3.7/dist-packages (from yahoo_fin) (0.10.0)\n",
            "Requirement already satisfied: requests in /usr/local/lib/python3.7/dist-packages (from yahoo_fin) (2.23.0)\n",
            "Requirement already satisfied: feedparser in /usr/local/lib/python3.7/dist-packages (from yahoo_fin) (6.0.10)\n",
            "Requirement already satisfied: sgmllib3k in /usr/local/lib/python3.7/dist-packages (from feedparser->yahoo_fin) (1.0.0)\n",
            "Requirement already satisfied: pytz>=2017.3 in /usr/local/lib/python3.7/dist-packages (from pandas->yahoo_fin) (2022.5)\n",
            "Requirement already satisfied: python-dateutil>=2.7.3 in /usr/local/lib/python3.7/dist-packages (from pandas->yahoo_fin) (2.8.2)\n",
            "Requirement already satisfied: numpy>=1.17.3 in /usr/local/lib/python3.7/dist-packages (from pandas->yahoo_fin) (1.21.6)\n",
            "Requirement already satisfied: six>=1.5 in /usr/local/lib/python3.7/dist-packages (from python-dateutil>=2.7.3->pandas->yahoo_fin) (1.15.0)\n",
            "Requirement already satisfied: chardet<4,>=3.0.2 in /usr/local/lib/python3.7/dist-packages (from requests->yahoo_fin) (3.0.4)\n",
            "Requirement already satisfied: certifi>=2017.4.17 in /usr/local/lib/python3.7/dist-packages (from requests->yahoo_fin) (2022.9.24)\n",
            "Requirement already satisfied: idna<3,>=2.5 in /usr/local/lib/python3.7/dist-packages (from requests->yahoo_fin) (2.10)\n",
            "Requirement already satisfied: urllib3!=1.25.0,!=1.25.1,<1.26,>=1.21.1 in /usr/local/lib/python3.7/dist-packages (from requests->yahoo_fin) (1.25.11)\n",
            "Requirement already satisfied: fake-useragent in /usr/local/lib/python3.7/dist-packages (from requests-html->yahoo_fin) (0.1.14)\n",
            "Requirement already satisfied: pyppeteer>=0.0.14 in /usr/local/lib/python3.7/dist-packages (from requests-html->yahoo_fin) (1.0.2)\n",
            "Requirement already satisfied: parse in /usr/local/lib/python3.7/dist-packages (from requests-html->yahoo_fin) (1.19.0)\n",
            "Requirement already satisfied: w3lib in /usr/local/lib/python3.7/dist-packages (from requests-html->yahoo_fin) (2.0.1)\n",
            "Requirement already satisfied: pyquery in /usr/local/lib/python3.7/dist-packages (from requests-html->yahoo_fin) (1.4.3)\n",
            "Requirement already satisfied: bs4 in /usr/local/lib/python3.7/dist-packages (from requests-html->yahoo_fin) (0.0.1)\n",
            "Requirement already satisfied: appdirs<2.0.0,>=1.4.3 in /usr/local/lib/python3.7/dist-packages (from pyppeteer>=0.0.14->requests-html->yahoo_fin) (1.4.4)\n",
            "Requirement already satisfied: tqdm<5.0.0,>=4.42.1 in /usr/local/lib/python3.7/dist-packages (from pyppeteer>=0.0.14->requests-html->yahoo_fin) (4.64.1)\n",
            "Requirement already satisfied: pyee<9.0.0,>=8.1.0 in /usr/local/lib/python3.7/dist-packages (from pyppeteer>=0.0.14->requests-html->yahoo_fin) (8.2.2)\n",
            "Requirement already satisfied: websockets<11.0,>=10.0 in /usr/local/lib/python3.7/dist-packages (from pyppeteer>=0.0.14->requests-html->yahoo_fin) (10.4)\n",
            "Requirement already satisfied: importlib-metadata>=1.4 in /usr/local/lib/python3.7/dist-packages (from pyppeteer>=0.0.14->requests-html->yahoo_fin) (4.13.0)\n",
            "Requirement already satisfied: typing-extensions>=3.6.4 in /usr/local/lib/python3.7/dist-packages (from importlib-metadata>=1.4->pyppeteer>=0.0.14->requests-html->yahoo_fin) (4.1.1)\n",
            "Requirement already satisfied: zipp>=0.5 in /usr/local/lib/python3.7/dist-packages (from importlib-metadata>=1.4->pyppeteer>=0.0.14->requests-html->yahoo_fin) (3.10.0)\n",
            "Requirement already satisfied: beautifulsoup4 in /usr/local/lib/python3.7/dist-packages (from bs4->requests-html->yahoo_fin) (4.6.3)\n",
            "Requirement already satisfied: cssselect>0.7.9 in /usr/local/lib/python3.7/dist-packages (from pyquery->requests-html->yahoo_fin) (1.2.0)\n",
            "Requirement already satisfied: lxml>=2.1 in /usr/local/lib/python3.7/dist-packages (from pyquery->requests-html->yahoo_fin) (4.9.1)\n"
          ]
        }
      ]
    },
    {
      "cell_type": "code",
      "source": [
        "earnings_hist = si.get_earnings_history(SYMBOL)"
      ],
      "metadata": {
        "id": "9O9CBh0UyVv8"
      },
      "execution_count": 3,
      "outputs": []
    },
    {
      "cell_type": "code",
      "source": [
        "str_earningsdates = \"\"\n",
        "for e in earnings_hist:\n",
        "  # print(e[\"startdatetime\"])\n",
        "  _date = e[\"startdatetime\"].split(\"T\")\n",
        "  _time = _date[1].replace(\":\",\"-\").replace(\".\",\"-\").split(\"-\")\n",
        "  str_earningsdates += _date[0]+\"-\"+_time[0]+\"-\"+_time[1]+\"-\"+_time[2]+\";\""
      ],
      "metadata": {
        "id": "cSVdrN1QzfD7"
      },
      "execution_count": 4,
      "outputs": []
    },
    {
      "cell_type": "code",
      "source": [
        "final_output = SYMBOL.upper().strip() + \":\" + str_earningsdates"
      ],
      "metadata": {
        "id": "nUzaPcIu1arR"
      },
      "execution_count": 5,
      "outputs": []
    },
    {
      "cell_type": "markdown",
      "source": [
        "###Output:\n",
        "To be intrepreted by PineScript"
      ],
      "metadata": {
        "id": "66rKJjy91cS3"
      }
    },
    {
      "cell_type": "code",
      "source": [
        "print(final_output)"
      ],
      "metadata": {
        "colab": {
          "base_uri": "https://localhost:8080/"
        },
        "id": "sbhM8Rc63A56",
        "outputId": "ab5d7952-4c7d-4d9c-b75a-6bad89e6289d"
      },
      "execution_count": 6,
      "outputs": [
        {
          "output_type": "stream",
          "name": "stdout",
          "text": [
            "MSFT:2023-10-23-10-59-00;2023-07-24-10-59-00;2023-04-24-10-59-00;2023-01-23-10-59-00;2022-10-25-16-02-00;2022-07-26-16-09-00;2022-04-26-16-04-00;2022-01-25-16-04-00;2021-10-26-16-05-00;2021-07-27-16-02-00;2021-04-27-16-03-00;2021-01-26-16-04-00;2020-10-27-16-13-00;2020-07-22-16-03-00;2020-04-29-16-03-00;2020-01-29-16-05-00;2019-10-23-16-08-00;2019-07-18-16-07-00;2019-04-24-16-07-00;2019-01-30-16-06-00;2018-10-24-16-07-00;2018-07-19-16-05-00;2018-04-26-16-04-00;2018-01-31-16-05-00;2017-10-26-16-02-00;2017-07-20-16-06-00;2017-04-27-16-05-00;2017-01-26-16-09-00;2016-10-20-16-05-00;2016-07-19-16-05-00;2016-04-21-16-05-00;2016-01-28-16-06-00;2015-10-22-16-05-00;2015-07-21-16-05-00;2015-04-23-16-02-00;2015-01-26-16-10-00;2014-10-23-16-02-00;2014-07-22-04-00-00;2014-04-24-04-00-00;2014-01-23-05-00-00;2013-10-24-04-00-00;2013-07-18-04-00-00;2013-04-18-04-00-00;2013-01-24-05-00-00;2012-10-18-04-00-00;2012-07-19-04-00-00;2012-04-19-04-00-00;2012-01-19-05-00-00;2011-10-20-04-00-00;2011-07-21-04-00-00;2011-04-28-04-00-00;2011-01-27-05-00-00;2010-10-28-04-00-00;2010-07-22-04-00-00;2010-04-22-04-00-00;2010-01-28-05-00-00;2009-10-23-04-00-00;2009-07-23-04-00-00;2009-04-23-04-00-00;2009-01-22-05-00-00;2008-10-23-04-00-00;2008-07-17-04-00-00;2008-04-24-04-00-00;2008-01-24-05-00-00;2007-10-25-04-00-00;2007-07-19-04-00-00;2007-04-26-04-00-00;2007-01-25-05-00-00;2006-10-26-04-00-00;2006-07-20-04-00-00;2006-04-27-04-00-00;2006-01-26-05-00-00;2005-10-27-04-00-00;2005-07-21-04-00-00;2005-04-28-04-00-00;2005-01-27-05-00-00;2004-10-21-04-00-00;2004-07-22-04-00-00;2004-04-22-04-00-00;2004-01-22-05-00-00;2003-10-23-04-00-00;2003-07-17-04-00-00;2003-04-15-04-00-00;2003-01-16-05-00-00;2002-10-17-04-00-00;2002-07-18-04-00-00;2002-04-18-04-00-00;2002-01-17-05-00-00;2001-10-18-04-00-00;2001-07-19-04-00-00;2001-04-19-04-00-00;2001-01-18-05-00-00;2000-10-18-04-00-00;2000-07-18-04-00-00;2000-04-20-04-00-00;2000-01-18-05-00-00;1999-10-19-04-00-00;1999-07-19-04-00-00;1999-04-20-04-00-00;1999-01-19-05-00-00;\n"
          ]
        }
      ]
    }
  ]
}